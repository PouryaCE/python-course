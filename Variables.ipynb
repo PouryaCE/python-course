{
 "cells": [
  {
   "cell_type": "markdown",
   "id": "ee163802",
   "metadata": {},
   "source": [
    "# Variables in python\n",
    "### in python when we want to save a temporary thing we use variables\n",
    "### but the question is why we need variables"
   ]
  },
  {
   "cell_type": "markdown",
   "id": "c5e60891",
   "metadata": {},
   "source": [
    "In Python, a variable is a name that refers to a value stored in memory. Variables are used to store data of different types, such as numbers, strings, lists, and dictionaries, which can be used in a program to perform calculations, manipulate text, and store information.\n",
    "\n",
    "To create a variable in Python, you need to choose a name for the variable and assign a value to it using the equal sign (=) operator. For example, the following code creates a variable x and assigns it the value 10:"
   ]
  },
  {
   "cell_type": "code",
   "execution_count": 2,
   "id": "4c8b4cf3",
   "metadata": {},
   "outputs": [
    {
     "data": {
      "text/plain": [
       "10"
      ]
     },
     "execution_count": 2,
     "metadata": {},
     "output_type": "execute_result"
    }
   ],
   "source": [
    "x = 10\n",
    "x"
   ]
  },
  {
   "cell_type": "markdown",
   "id": "d94eec42",
   "metadata": {},
   "source": [
    "![Alt text](img/var.png)"
   ]
  },
  {
   "cell_type": "markdown",
   "id": "5e93713e",
   "metadata": {},
   "source": [
    "### Once a variable has been created, you can use its name to refer to the value stored in memory. For example, you can use the variable x in a calculation:"
   ]
  },
  {
   "cell_type": "code",
   "execution_count": 3,
   "id": "a8857761",
   "metadata": {},
   "outputs": [
    {
     "name": "stdout",
     "output_type": "stream",
     "text": [
      "15\n"
     ]
    }
   ],
   "source": [
    "y = x + 5\n",
    "print(y)"
   ]
  },
  {
   "cell_type": "markdown",
   "id": "c7ad942f",
   "metadata": {},
   "source": [
    "## This code adds 5 to the value stored in the x variable and assigns the result to the y variable. The print() function is used to display the value of y on the screen.\n",
    "\n",
    "### Python is a __dynamically-typed__ language, which means that you do not need to specify the data type of a variable when you create it. Python automatically determines the data type based on the value you assign to the variable. For example, if you assign a string to a variable, Python will create a string variable, as in the following code:\n"
   ]
  },
  {
   "cell_type": "code",
   "execution_count": 4,
   "id": "2d4dd529",
   "metadata": {},
   "outputs": [
    {
     "data": {
      "text/plain": [
       "'John'"
      ]
     },
     "execution_count": 4,
     "metadata": {},
     "output_type": "execute_result"
    }
   ],
   "source": [
    "name = \"John\"\n",
    "name"
   ]
  },
  {
   "cell_type": "markdown",
   "id": "5b6ee8bb",
   "metadata": {},
   "source": [
    "In this case, name is a string variable that contains the value __\"John\"__. "
   ]
  },
  {
   "cell_type": "markdown",
   "id": "a2dae982",
   "metadata": {},
   "source": [
    "string is uses in python with __''__  or __\"\"__\n",
    "> single qoutes or double qoutes\n",
    "> for example 'pourya' or \"pourya\""
   ]
  },
  {
   "cell_type": "markdown",
   "id": "53de7441",
   "metadata": {},
   "source": [
    "# comments"
   ]
  },
  {
   "cell_type": "markdown",
   "id": "b7884956",
   "metadata": {},
   "source": [
    "### In Python, a comment is a line of text that is ignored by the interpreter and is intended for human readers to understand the code. Comments are used to provide explanations, describe the purpose of code, and make the code more readable.\n",
    "\n",
    "### In Python, comments are denoted by the hash character (#). Any text that appears after the hash character on a line is considered a comment and is ignored by the interpreter. For example:"
   ]
  },
  {
   "cell_type": "code",
   "execution_count": 7,
   "id": "40a78b48",
   "metadata": {},
   "outputs": [
    {
     "name": "stdout",
     "output_type": "stream",
     "text": [
      "Hello, World!\n"
     ]
    }
   ],
   "source": [
    "# This is a comment in Python\n",
    "print(\"Hello, World!\") # This is also a comment"
   ]
  },
  {
   "cell_type": "markdown",
   "id": "e1227253",
   "metadata": {},
   "source": [
    "# mathematical operations"
   ]
  },
  {
   "cell_type": "markdown",
   "id": "0a953156",
   "metadata": {},
   "source": [
    "Python supports a wide range of mathematical operations that you can use to perform calculations and manipulate numerical data. Here are some of the most commonly used mathematical operators in Python:\n",
    "\n",
    ">Addition (+): Adds two or more numbers together.\n",
    "\n",
    ">Subtraction (-): Subtracts one number from another.\n",
    "\n",
    ">Multiplication (*): Multiplies two or more numbers together.\n",
    "\n",
    ">Division (/): Divides one number by another.\n",
    "\n",
    ">Floor Division (//): Divides one number by another and returns the floor of the result (i.e., the largest integer not greater than the result).\n",
    "\n",
    ">Modulus (%): Returns the remainder of dividing one number by another.\n",
    "\n",
    ">Exponentiation (**): Raises one number to the power of another.\n",
    "\n",
    "Here are some examples of how you can use these operators in Python:"
   ]
  },
  {
   "cell_type": "code",
   "execution_count": 14,
   "id": "391b7607",
   "metadata": {},
   "outputs": [
    {
     "name": "stdout",
     "output_type": "stream",
     "text": [
      "5\n",
      "3\n",
      "8\n",
      "2\n",
      "15\n",
      "1.6666666666666667\n",
      "1\n",
      "2\n",
      "125\n"
     ]
    }
   ],
   "source": [
    "a = 5\n",
    "b = 3\n",
    "c = a + b   # c is now 8\n",
    "d = a - b   # d is now 2\n",
    "e = a * b   # e is now 15\n",
    "f = a / b   # f is now 1.6666666666666667\n",
    "g = a // b  # g is now 1\n",
    "h = a % b   # h is now 2\n",
    "i = a ** b  # i is now 125\n",
    "print(a)\n",
    "print(b)\n",
    "print(c)\n",
    "print(d)\n",
    "print(e)\n",
    "print(f)\n",
    "print(g)\n",
    "print(h)print(i)\n",
    "\n"
   ]
  }
 ],
 "metadata": {
  "kernelspec": {
   "display_name": "Python 3 (ipykernel)",
   "language": "python",
   "name": "python3"
  },
  "language_info": {
   "codemirror_mode": {
    "name": "ipython",
    "version": 3
   },
   "file_extension": ".py",
   "mimetype": "text/x-python",
   "name": "python",
   "nbconvert_exporter": "python",
   "pygments_lexer": "ipython3",
   "version": "3.10.9"
  }
 },
 "nbformat": 4,
 "nbformat_minor": 5
}
