{
 "cells": [
  {
   "cell_type": "markdown",
   "id": "ee163802",
   "metadata": {},
   "source": [
    "# Variables in python\n",
    "### in python when we want to save a temporary thing we use variables\n",
    "### but the question is why we need variables"
   ]
  },
  {
   "cell_type": "markdown",
   "id": "c5e60891",
   "metadata": {},
   "source": [
    "In Python, a variable is a name that refers to a value stored in memory. Variables are used to store data of different types, such as numbers, strings, lists, and dictionaries, which can be used in a program to perform calculations, manipulate text, and store information.\n",
    "\n",
    "To create a variable in Python, you need to choose a name for the variable and assign a value to it using the equal sign (=) operator. For example, the following code creates a variable x and assigns it the value 10:"
   ]
  },
  {
   "cell_type": "code",
   "execution_count": 2,
   "id": "4c8b4cf3",
   "metadata": {},
   "outputs": [
    {
     "data": {
      "text/plain": [
       "10"
      ]
     },
     "execution_count": 2,
     "metadata": {},
     "output_type": "execute_result"
    }
   ],
   "source": [
    "x = 10\n",
    "x"
   ]
  },
  {
   "cell_type": "markdown",
   "id": "d94eec42",
   "metadata": {},
   "source": [
    "![Alt text](img/var.png)"
   ]
  },
  {
   "cell_type": "markdown",
   "id": "5e93713e",
   "metadata": {},
   "source": [
    "### Once a variable has been created, you can use its name to refer to the value stored in memory. For example, you can use the variable x in a calculation:"
   ]
  },
  {
   "cell_type": "code",
   "execution_count": 3,
   "id": "a8857761",
   "metadata": {},
   "outputs": [
    {
     "name": "stdout",
     "output_type": "stream",
     "text": [
      "15\n"
     ]
    }
   ],
   "source": [
    "y = x + 5\n",
    "print(y)"
   ]
  },
  {
   "cell_type": "markdown",
   "id": "c7ad942f",
   "metadata": {},
   "source": [
    "## This code adds 5 to the value stored in the x variable and assigns the result to the y variable. The print() function is used to display the value of y on the screen.\n",
    "\n",
    "### Python is a __dynamically-typed__ language, which means that you do not need to specify the data type of a variable when you create it. Python automatically determines the data type based on the value you assign to the variable. For example, if you assign a string to a variable, Python will create a string variable, as in the following code:\n"
   ]
  },
  {
   "cell_type": "code",
   "execution_count": 5,
   "id": "2d4dd529",
   "metadata": {},
   "outputs": [
    {
     "data": {
      "text/plain": [
       "'John'"
      ]
     },
     "execution_count": 5,
     "metadata": {},
     "output_type": "execute_result"
    }
   ],
   "source": [
    "name = \"John\"\n",
    "name"
   ]
  },
  {
   "cell_type": "markdown",
   "id": "5b6ee8bb",
   "metadata": {},
   "source": [
    "In this case, name is a string variable that contains the value __\"John\"__. "
   ]
  },
  {
   "cell_type": "markdown",
   "id": "a2dae982",
   "metadata": {},
   "source": [
    "string is uses in python with __''__  or __\"\"__\n",
    "> single qoutes or double qoutes\n",
    "> for example 'pourya' or \"pourya\""
   ]
  }
 ],
 "metadata": {
  "kernelspec": {
   "display_name": "Python 3 (ipykernel)",
   "language": "python",
   "name": "python3"
  },
  "language_info": {
   "codemirror_mode": {
    "name": "ipython",
    "version": 3
   },
   "file_extension": ".py",
   "mimetype": "text/x-python",
   "name": "python",
   "nbconvert_exporter": "python",
   "pygments_lexer": "ipython3",
   "version": "3.10.9"
  }
 },
 "nbformat": 4,
 "nbformat_minor": 5
}
