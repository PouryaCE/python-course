{
 "cells": [
  {
   "cell_type": "markdown",
   "id": "5f2d0385",
   "metadata": {},
   "source": [
    "# <center>strings in python</center>"
   ]
  },
  {
   "cell_type": "markdown",
   "id": "23fabe57",
   "metadata": {},
   "source": [
    "![Alt text](img/str.png)"
   ]
  },
  {
   "cell_type": "markdown",
   "id": "69130027",
   "metadata": {},
   "source": [
    "# Here is some string methods"
   ]
  },
  {
   "cell_type": "markdown",
   "id": "2985df45",
   "metadata": {},
   "source": [
    "capitalize(): Returns a string with the first character capitalized and the rest lowercased.\n",
    "<hr>\n",
    "casefold(): Returns a lowercase string, similar to\n",
    "lower(), but more aggressive in its conversion.\n",
    "<hr>\n",
    "center(width[, fillchar]): Returns a string centered in a field of specified width, with optional fill characters on either side.\n",
    "<hr>\n",
    "count(sub[, start[, end]]): Returns the number of non-overlapping occurrences of a substring in the string.\n",
    "<hr>\n",
    "encode([encoding[, errors]]): Returns a bytes object containing the string encoded in the specified encoding.\n",
    "<hr>\n",
    "endswith(suffix[, start[, end]]): Returns True if the string ends with the specified suffix, otherwise False.\n",
    "<hr>\n",
    "expandtabs([tabsize]): Returns a copy of the string with all tab characters replaced with one or more spaces, depending on the value of tabsize.\n",
    "<hr>\n",
    "find(sub[, start[, end]]): Returns the lowest index in the string where a substring is found, or -1 if the substring is not found.\n",
    "<hr>\n",
    "format(*args, **kwargs): Returns a string formatted with the specified arguments.\n",
    "<hr>\n",
    "format_map(mapping): Returns a string formatted with the key-value pairs in the specified mapping.\n",
    "<hr>\n",
    "index(sub[, start[, end]]): Returns the lowest index in the string where a substring is found, or raises a ValueError if the substring is not found.\n",
    "<hr>\n",
    "isalnum(): Returns True if all characters in the string are alphanumeric (letters or numbers), otherwise False.\n",
    "<hr>    \n",
    "isalpha(): Returns True if all characters in the string are alphabetic (letters), otherwise False.\n",
    "<hr>\n",
    "isascii(): Returns True if all characters in the string are ASCII characters (i.e. in the range 0-127), otherwise False.\n",
    "<hr>\n",
    "isdecimal(): Returns True if all characters in the string are decimal characters (i.e. 0-9), otherwise False.\n",
    "<hr>\n",
    "isdigit(): Returns True if all characters in the string are digits (including non-ASCII digits), otherwise False.\n",
    "<hr>\n",
    "isidentifier(): Returns True if the string is a valid identifier in Python, otherwise False.\n",
    "<hr>\n",
    "islower(): Returns True if all cased characters in the string are lowercase, otherwise False.\n",
    "<hr>\n",
    "isnumeric(): Returns True if all characters in the string are numeric (including non-ASCII numeric characters), otherwise False.\n",
    "<hr>\n",
    "isprintable(): Returns True if all characters in the string are printable (i.e. not control characters), otherwise False.\n",
    "<hr>\n",
    "isspace(): Returns True if all characters in the string are whitespace characters (i.e. spaces, tabs, newlines, etc.), otherwise False.\n",
    "<hr>\n",
    "istitle(): Returns True if the string is in titlecase (i.e. the first character of each word is capitalized), otherwise False.\n",
    "<hr>\n",
    "isupper(): Returns True if all cased characters in the string are uppercase, otherwise False.\n",
    "<hr>\n",
    "join(iterable): Returns a string that is the concatenation of the strings in the specified iterable, separated by the string on which the method is called.\n",
    "<hr>   \n",
    "ljust(width[, fillchar]): Returns a string left-justified in a field of specified width, with optional fill characters on the right.\n",
    "<hr>\n",
    "lower(): Returns a lowercase version of the string.\n",
    "<hr>\n",
    "lstrip([chars]): Returns a copy of the string with leading characters removed, as specified by the optional chars argument.\n",
    "<hr>\n",
    "maketrans(x[, y[, z]]): Returns a translation table to be used with the translate() method.\n",
    "   \n",
    "<hr>\n",
    "partition(sep): Returns a tuple containing the part of the string before the first occurrence of the specified separator, the separator itself, and the part of the string after the separator.\n",
    "<hr>\n",
    "replace(old, new[, count]): Returns a copy of the string with all occurrences of the specified old substring replaced with the specified new substring.\n",
    "<hr>\n",
    "rfind(sub[, start[, end]]): Returns the highest index in the string where a substring is found, or -1 if the substring is not found.\n",
    "<hr>\n",
    "rindex(sub[, start[, end]]): Returns the highest index in the string where a substring is found, or raises a ValueError if the substring is not found.\n",
    "<hr>\n",
    "rjust(width[, fillchar]): Returns a string right-justified in a field of specified width, with optional fill characters on the left.\n",
    "<hr>\n",
    "rpartition(sep): Returns a tuple containing the part of the string before the last occurrence of the specified separator, the separator itself, and the part of the string after the separator.    \n",
    "<hr>\n",
    "rsplit([sep[, maxsplit]]): Returns a list of the words in the string, using the specified separator as the delimiter, starting from the right end of the string.\n",
    "<hr>\n",
    "rstrip([chars]): Returns a copy of the string with trailing characters removed, as specified by the optional chars argument.    \n",
    "<hr>\n",
    "split([sep[, maxsplit]]): Returns a list of the words in the string, using the specified separator as the delimiter.\n",
    "<hr>\n",
    "splitlines([keepends]): Returns a list of the lines in the string, breaking at line boundaries. \n",
    "<hr>\n",
    "startswith(prefix[, start[, end]]): Returns True if the string starts with the specified prefix, otherwise False.\n",
    "<hr>\n",
    "strip([chars]): Returns a copy of the string with leading and trailing characters removed, as specified by the optional chars argument.    \n",
    "<hr>\n",
    "swapcase(): Returns a string with uppercase characters converted to lowercase and vice versa.\n",
    "<hr>\n",
    "title(): Returns a string in titlecase (i.e. the first character of each word is capitalized).\n",
    "<hr>\n",
    "translate(table[, deletechars]): Returns a copy of the string with each character mapped through the specified translation table.\n",
    "<hr>\n",
    "upper(): Returns an uppercase version of the string.\n",
    "<hr>\n",
    "zfill(width): Returns a copy of the string left-padded with zeros to a field of the specified width.\n"
   ]
  },
  {
   "cell_type": "markdown",
   "id": "746eaa46",
   "metadata": {},
   "source": [
    "# capitalize()"
   ]
  },
  {
   "cell_type": "code",
   "execution_count": 5,
   "id": "6950e827",
   "metadata": {},
   "outputs": [
    {
     "name": "stdout",
     "output_type": "stream",
     "text": [
      "Hello world\n"
     ]
    }
   ],
   "source": [
    "text = \"hellO world\"\n",
    "capitalized_text = text.capitalize()\n",
    "print(capitalized_text)  # Output: \"Hello world\""
   ]
  },
  {
   "cell_type": "markdown",
   "id": "49be8c73",
   "metadata": {},
   "source": [
    "# casefold()"
   ]
  },
  {
   "cell_type": "code",
   "execution_count": 7,
   "id": "e4f91391",
   "metadata": {},
   "outputs": [
    {
     "name": "stdout",
     "output_type": "stream",
     "text": [
      "hello world\n"
     ]
    }
   ],
   "source": [
    "text = \"HellO World\"\n",
    "casefolded_text = text.casefold()\n",
    "print(casefolded_text)  # Output: \"hello world\""
   ]
  },
  {
   "cell_type": "markdown",
   "id": "41b98fed",
   "metadata": {},
   "source": [
    "# center()"
   ]
  },
  {
   "cell_type": "code",
   "execution_count": 13,
   "id": "e613a7f3",
   "metadata": {},
   "outputs": [
    {
     "name": "stdout",
     "output_type": "stream",
     "text": [
      "--hello---\n"
     ]
    }
   ],
   "source": [
    "text = \"hello\"\n",
    "centered_text = text.center(10, \"-\")\n",
    "print(centered_text)  # Output: \"--hello---\""
   ]
  },
  {
   "cell_type": "markdown",
   "id": "a89480fa",
   "metadata": {},
   "source": [
    "# Count()"
   ]
  },
  {
   "cell_type": "code",
   "execution_count": 18,
   "id": "457454c9",
   "metadata": {},
   "outputs": [
    {
     "name": "stdout",
     "output_type": "stream",
     "text": [
      "3\n"
     ]
    }
   ],
   "source": [
    "text = \"hello world\"\n",
    "count = text.count(\"l\")\n",
    "print(count)  # Output: 3"
   ]
  },
  {
   "cell_type": "markdown",
   "id": "79a00a6b",
   "metadata": {},
   "source": [
    "# encode()"
   ]
  },
  {
   "cell_type": "code",
   "execution_count": 20,
   "id": "3f94a5d9",
   "metadata": {},
   "outputs": [
    {
     "name": "stdout",
     "output_type": "stream",
     "text": [
      "b'hello world'\n",
      "<class 'bytes'>\n"
     ]
    }
   ],
   "source": [
    "text = \"hello world\"\n",
    "encoded_text = text.encode(\"utf-8\")\n",
    "print(encoded_text)  # Output: b'hello world'\n",
    "print(type(encoded_text))"
   ]
  },
  {
   "cell_type": "markdown",
   "id": "752a8a27",
   "metadata": {},
   "source": [
    "# endswith()"
   ]
  },
  {
   "cell_type": "code",
   "execution_count": 25,
   "id": "168e0274",
   "metadata": {},
   "outputs": [
    {
     "name": "stdout",
     "output_type": "stream",
     "text": [
      "True\n"
     ]
    }
   ],
   "source": [
    "text = \"hello world\"\n",
    "ends_with = text.endswith(\"o world\")\n",
    "print(ends_with)  # Output: True"
   ]
  },
  {
   "cell_type": "markdown",
   "id": "1b057faf",
   "metadata": {},
   "source": [
    "# expandstabs()"
   ]
  },
  {
   "cell_type": "code",
   "execution_count": 65,
   "id": "a11136de",
   "metadata": {},
   "outputs": [
    {
     "name": "stdout",
     "output_type": "stream",
     "text": [
      "hello\t\t\t\tworld\n",
      "hello    world\n"
     ]
    }
   ],
   "source": [
    "text = \"hello\\t\\t\\t\\tworld\"\n",
    "expanded_text = text.expandtabs(1)\n",
    "print(text)\n",
    "print(expanded_text)  # Output: \"hello   world\""
   ]
  },
  {
   "cell_type": "markdown",
   "id": "fa771268",
   "metadata": {},
   "source": [
    "# find()"
   ]
  },
  {
   "cell_type": "code",
   "execution_count": 66,
   "id": "c4074cf2",
   "metadata": {},
   "outputs": [
    {
     "name": "stdout",
     "output_type": "stream",
     "text": [
      "6\n"
     ]
    }
   ],
   "source": [
    "text = \"hello world\"\n",
    "index = text.find(\"world\")\n",
    "print(index)  # Output: 6"
   ]
  },
  {
   "cell_type": "markdown",
   "id": "81dd731a",
   "metadata": {},
   "source": [
    "# format()"
   ]
  },
  {
   "cell_type": "code",
   "execution_count": 70,
   "id": "19370969",
   "metadata": {},
   "outputs": [
    {
     "name": "stdout",
     "output_type": "stream",
     "text": [
      "My name is Alice and I am 30 years old. i love you\n"
     ]
    }
   ],
   "source": [
    "name = \"Alice\"\n",
    "age = 30\n",
    "message = \"My name is {0} and I am {1} years old. i love {2}\".format(name, age, \"you\")\n",
    "print(message)  # Output: \"My name is Alice and I am 30 years old.\""
   ]
  },
  {
   "cell_type": "markdown",
   "id": "d72250fe",
   "metadata": {},
   "source": [
    "# format_map(mapping)"
   ]
  },
  {
   "cell_type": "code",
   "execution_count": 71,
   "id": "0da2bfba",
   "metadata": {},
   "outputs": [
    {
     "name": "stdout",
     "output_type": "stream",
     "text": [
      "My name is Alice and I am 30 years old.\n"
     ]
    }
   ],
   "source": [
    "data = {\"name\": \"Alice\", \"age\": 30}\n",
    "message = \"My name is {name} and I am {age} years old.\".format_map(data)\n",
    "print(message)  # Output: \"My name is Alice and I am 30 years old.\""
   ]
  },
  {
   "cell_type": "markdown",
   "id": "c371c323",
   "metadata": {},
   "source": [
    "# index"
   ]
  },
  {
   "cell_type": "code",
   "execution_count": 74,
   "id": "e3fd7378",
   "metadata": {},
   "outputs": [
    {
     "name": "stdout",
     "output_type": "stream",
     "text": [
      "6\n"
     ]
    }
   ],
   "source": [
    "text = \"hello world\"\n",
    "index = text.index(\"world\")\n",
    "print(index)  # Output: 6"
   ]
  },
  {
   "cell_type": "markdown",
   "id": "26431534",
   "metadata": {},
   "source": [
    "# isalnum()"
   ]
  },
  {
   "cell_type": "code",
   "execution_count": 78,
   "id": "94d0afe3",
   "metadata": {},
   "outputs": [
    {
     "name": "stdout",
     "output_type": "stream",
     "text": [
      "True\n",
      "False\n"
     ]
    }
   ],
   "source": [
    "text1 = \"hello123\"\n",
    "text2 = \"hello world\"   # because of space\n",
    "print(text1.isalnum())  # Output: True\n",
    "print(text2.isalnum())  # Output: False"
   ]
  },
  {
   "cell_type": "markdown",
   "id": "0f74bf2f",
   "metadata": {},
   "source": [
    "# isalpha()"
   ]
  },
  {
   "cell_type": "code",
   "execution_count": 83,
   "id": "27bc5c2a",
   "metadata": {},
   "outputs": [
    {
     "name": "stdout",
     "output_type": "stream",
     "text": [
      "True\n",
      "False\n"
     ]
    }
   ],
   "source": [
    "text1 = \"hello\"\n",
    "text2 = \"hello123\"\n",
    "print(text1.isalpha())  # Output: True\n",
    "print(text2.isalpha())  # Output: False"
   ]
  },
  {
   "cell_type": "markdown",
   "id": "5d721547",
   "metadata": {},
   "source": [
    "# isascii()"
   ]
  },
  {
   "cell_type": "code",
   "execution_count": 84,
   "id": "340cba40",
   "metadata": {},
   "outputs": [
    {
     "name": "stdout",
     "output_type": "stream",
     "text": [
      "True\n",
      "False\n"
     ]
    }
   ],
   "source": [
    "text1 = \"hello\"\n",
    "text2 = \"你好\"\n",
    "print(text1.isascii())  # Output: True\n",
    "print(text2.isascii())  # Output: False"
   ]
  },
  {
   "cell_type": "markdown",
   "id": "c315fd6f",
   "metadata": {},
   "source": [
    "# isdecimal()"
   ]
  },
  {
   "cell_type": "code",
   "execution_count": 86,
   "id": "bf4f79a9",
   "metadata": {},
   "outputs": [
    {
     "name": "stdout",
     "output_type": "stream",
     "text": [
      "True\n",
      "False\n"
     ]
    }
   ],
   "source": [
    "text1 = \"123\"\n",
    "text2 = \"12.3\"            # because of .\n",
    "print(text1.isdecimal())  # Output: True\n",
    "print(text2.isdecimal())  # Output: False"
   ]
  },
  {
   "cell_type": "markdown",
   "id": "0e27adab",
   "metadata": {},
   "source": [
    "# isdigit()"
   ]
  },
  {
   "cell_type": "code",
   "execution_count": 88,
   "id": "7edfeb0f",
   "metadata": {},
   "outputs": [
    {
     "name": "stdout",
     "output_type": "stream",
     "text": [
      "True\n",
      "False\n"
     ]
    }
   ],
   "source": [
    "text1 = \"125\"\n",
    "text2 = \"12.3\"\n",
    "print(text1.isdigit())  # Output: True\n",
    "print(text2.isdigit())  # Output: False"
   ]
  },
  {
   "cell_type": "markdown",
   "id": "4914f3da",
   "metadata": {},
   "source": [
    "# isidentifier()"
   ]
  },
  {
   "cell_type": "code",
   "execution_count": 6,
   "id": "8788124e",
   "metadata": {},
   "outputs": [
    {
     "name": "stdout",
     "output_type": "stream",
     "text": [
      "True\n",
      "False\n"
     ]
    }
   ],
   "source": [
    "text1 = \"hello\"\n",
    "text2 = \"hello world\"        # because of space\n",
    "print(text1.isidentifier())  # Output: True\n",
    "print(text2.isidentifier())  # Output: False\n"
   ]
  },
  {
   "cell_type": "markdown",
   "id": "be5b90a9",
   "metadata": {},
   "source": [
    "# islower()"
   ]
  },
  {
   "cell_type": "code",
   "execution_count": 11,
   "id": "4fc31f5f",
   "metadata": {},
   "outputs": [
    {
     "name": "stdout",
     "output_type": "stream",
     "text": [
      "True\n",
      "False\n"
     ]
    }
   ],
   "source": [
    "text1 = \"hello\"\n",
    "text2 = \"Hello\"\n",
    "print(text1.islower())  # Output: True\n",
    "print(text2.islower())  # Output: False"
   ]
  },
  {
   "cell_type": "markdown",
   "id": "81d8308a",
   "metadata": {},
   "source": [
    "# isnumeric()"
   ]
  },
  {
   "cell_type": "code",
   "execution_count": 12,
   "id": "6ecd5686",
   "metadata": {},
   "outputs": [
    {
     "name": "stdout",
     "output_type": "stream",
     "text": [
      "True\n",
      "False\n"
     ]
    }
   ],
   "source": [
    "text1 = \"123\"\n",
    "text2 = \"12.3\"\n",
    "print(text1.isnumeric())  # Output: True\n",
    "print(text2.isnumeric())  # Output: False"
   ]
  },
  {
   "cell_type": "markdown",
   "id": "efbc7958",
   "metadata": {},
   "source": [
    "# isprintable()"
   ]
  },
  {
   "cell_type": "code",
   "execution_count": 13,
   "id": "d2f43f89",
   "metadata": {},
   "outputs": [
    {
     "name": "stdout",
     "output_type": "stream",
     "text": [
      "True\n",
      "False\n"
     ]
    }
   ],
   "source": [
    "text1 = \"hello\"\n",
    "text2 = \"\\n\"\n",
    "print(text1.isprintable())  # Output: True\n",
    "print(text2.isprintable())  # Output: False"
   ]
  },
  {
   "cell_type": "markdown",
   "id": "4e4c5384",
   "metadata": {},
   "source": [
    "# isspace()"
   ]
  },
  {
   "cell_type": "markdown",
   "id": "871ef580",
   "metadata": {},
   "source": [
    "<div class=\"alert alert-block alert-warning\">\n",
    "<b>Notes:</b> Returns True if all characters in the string are whitespace characters (i.e. spaces, tabs, newlines, etc.).\n",
    "</div>"
   ]
  },
  {
   "cell_type": "code",
   "execution_count": 17,
   "id": "06bdc996",
   "metadata": {},
   "outputs": [
    {
     "name": "stdout",
     "output_type": "stream",
     "text": [
      "True\n",
      "False\n"
     ]
    }
   ],
   "source": [
    "text1 = \"   \"\n",
    "text2 = \"hello world\"\n",
    "print(text1.isspace())  # Output: True\n",
    "print(text2.isspace())  # Output: False\n"
   ]
  },
  {
   "cell_type": "markdown",
   "id": "a85f060f",
   "metadata": {},
   "source": [
    "# istitle()"
   ]
  },
  {
   "cell_type": "markdown",
   "id": "2e8af4f4",
   "metadata": {},
   "source": [
    "<div class=\"alert alert-block alert-warning\">\n",
    "<b>Notes:</b> Returns True if the string is in titlecase (i.e. the first character of each word is capitalized), otherwise False.\n",
    "</div>\n"
   ]
  },
  {
   "cell_type": "code",
   "execution_count": 18,
   "id": "9dd7b60d",
   "metadata": {},
   "outputs": [
    {
     "name": "stdout",
     "output_type": "stream",
     "text": [
      "True\n",
      "False\n"
     ]
    }
   ],
   "source": [
    "text1 = \"Hello World\"\n",
    "text2 = \"Hello world\"\n",
    "print(text1.istitle())  # Output: True\n",
    "print(text2.istitle())  # Output: False"
   ]
  },
  {
   "cell_type": "markdown",
   "id": "15175e4d",
   "metadata": {},
   "source": [
    "# isupper()"
   ]
  },
  {
   "cell_type": "code",
   "execution_count": 19,
   "id": "fa8773cd",
   "metadata": {},
   "outputs": [
    {
     "name": "stdout",
     "output_type": "stream",
     "text": [
      "True\n",
      "False\n"
     ]
    }
   ],
   "source": [
    "text1 = \"HELLO\"\n",
    "text2 = \"Hello\"\n",
    "print(text1.isupper())  # Output: True\n",
    "print(text2.isupper())  # Output: False"
   ]
  },
  {
   "cell_type": "markdown",
   "id": "473630cf",
   "metadata": {},
   "source": [
    "# join()"
   ]
  },
  {
   "cell_type": "markdown",
   "id": "c83569fd",
   "metadata": {},
   "source": [
    "<div class=\"alert alert-block alert-warning\">\n",
    "<b>Notes:</b> Returns a string that is the concatenation of the strings in the specified iterable, separated by the string on which the method is called..\n",
    "</div>"
   ]
  },
  {
   "cell_type": "code",
   "execution_count": 24,
   "id": "17aebf48",
   "metadata": {},
   "outputs": [
    {
     "name": "stdout",
     "output_type": "stream",
     "text": [
      "hello-world\n"
     ]
    }
   ],
   "source": [
    "words = [\"hello\", \"world\"]\n",
    "joined_text = \"-\".join(words)\n",
    "print(joined_text)  # Output: \"hello-world\"\n"
   ]
  },
  {
   "cell_type": "code",
   "execution_count": 25,
   "id": "bc1bd881",
   "metadata": {},
   "outputs": [
    {
     "name": "stdout",
     "output_type": "stream",
     "text": [
      "p*o*u*r*y*a\n"
     ]
    }
   ],
   "source": [
    "name = \"pourya\"\n",
    "print(\"*\".join(name))"
   ]
  },
  {
   "cell_type": "markdown",
   "id": "4872ccfc",
   "metadata": {},
   "source": [
    "# ljust()"
   ]
  },
  {
   "cell_type": "code",
   "execution_count": 26,
   "id": "d3542879",
   "metadata": {},
   "outputs": [
    {
     "name": "stdout",
     "output_type": "stream",
     "text": [
      "hello-----\n"
     ]
    }
   ],
   "source": [
    "text = \"hello\"\n",
    "left_justified_text = text.ljust(10, \"-\")\n",
    "print(left_justified_text)  # Output: \"hello-----\""
   ]
  },
  {
   "cell_type": "markdown",
   "id": "ff4dd78f",
   "metadata": {},
   "source": [
    "# lower()"
   ]
  },
  {
   "cell_type": "code",
   "execution_count": 27,
   "id": "603b65c4",
   "metadata": {},
   "outputs": [
    {
     "name": "stdout",
     "output_type": "stream",
     "text": [
      "hello world\n"
     ]
    }
   ],
   "source": [
    "text = \"HELLO WORLD\"\n",
    "lower_text = text.lower()\n",
    "print(lower_text)  # Output: \"hello world\""
   ]
  },
  {
   "cell_type": "markdown",
   "id": "4daacbd9",
   "metadata": {},
   "source": [
    "# lstrip()"
   ]
  },
  {
   "cell_type": "markdown",
   "id": "c993a16e",
   "metadata": {},
   "source": [
    "<div class=\"alert alert-block alert-warning\">\n",
    "<b>Notes:</b> Returns a copy of the string with leading characters removed, as specified by the optional chars argument..\n",
    "</div>"
   ]
  },
  {
   "cell_type": "code",
   "execution_count": 59,
   "id": "c6e445d9",
   "metadata": {},
   "outputs": [
    {
     "name": "stdout",
     "output_type": "stream",
     "text": [
      " world\n"
     ]
    }
   ],
   "source": [
    "text = \"hello world\"\n",
    "stripped_text = text.lstrip(\"hello\")\n",
    "print(stripped_text)  # Output: \"hello world   \""
   ]
  },
  {
   "cell_type": "markdown",
   "id": "00cde1d6",
   "metadata": {},
   "source": [
    "# maketrans() and translate()"
   ]
  },
  {
   "cell_type": "code",
   "execution_count": 65,
   "id": "1fe915cb",
   "metadata": {},
   "outputs": [
    {
     "name": "stdout",
     "output_type": "stream",
     "text": [
      "{97: 49, 101: 50, 105: 51, 111: 52, 117: 53}\n",
      "h2ll4 w4rld\n"
     ]
    }
   ],
   "source": [
    "intab = \"aeiou\"\n",
    "outtab = \"12345\"\n",
    "translation_table = str.maketrans(intab, outtab)\n",
    "print(translation_table)\n",
    "text = \"hello world\"\n",
    "translated_text = text.translate(translation_table)\n",
    "print(translated_text)  # Output: \"h2ll4 w4rld\""
   ]
  }
 ],
 "metadata": {
  "kernelspec": {
   "display_name": "Python 3 (ipykernel)",
   "language": "python",
   "name": "python3"
  },
  "language_info": {
   "codemirror_mode": {
    "name": "ipython",
    "version": 3
   },
   "file_extension": ".py",
   "mimetype": "text/x-python",
   "name": "python",
   "nbconvert_exporter": "python",
   "pygments_lexer": "ipython3",
   "version": "3.10.9"
  }
 },
 "nbformat": 4,
 "nbformat_minor": 5
}
